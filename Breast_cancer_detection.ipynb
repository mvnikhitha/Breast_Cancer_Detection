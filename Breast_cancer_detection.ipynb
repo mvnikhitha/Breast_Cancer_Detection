{
  "cells": [
    {
      "cell_type": "code",
      "execution_count": null,
      "metadata": {
        "id": "D8webx42PHhv"
      },
      "outputs": [],
      "source": [
        "import kagglehub\n",
        "import tensorflow as tf\n",
        "from tensorflow import keras\n",
        "from tensorflow.keras import layers\n",
        "import os\n",
        "import cv2\n",
        "import numpy as np\n",
        "from sklearn.model_selection import train_test_split"
      ]
    },
    {
      "cell_type": "code",
      "execution_count": null,
      "metadata": {
        "colab": {
          "base_uri": "https://localhost:8080/"
        },
        "id": "BQCETRNAPfOJ",
        "outputId": "4b144baa-46f6-4475-861a-3fb5b8b0a05e"
      },
      "outputs": [
        {
          "name": "stdout",
          "output_type": "stream",
          "text": [
            "Warning: Looks like you're using an outdated `kagglehub` version (installed: 0.3.6), please consider upgrading to the latest version (0.3.7).\n",
            "Downloading from https://www.kaggle.com/api/v1/datasets/download/awsaf49/cbis-ddsm-breast-cancer-image-dataset?dataset_version_number=1...\n"
          ]
        },
        {
          "name": "stderr",
          "output_type": "stream",
          "text": [
            "100%|██████████| 4.95G/4.95G [01:03<00:00, 84.3MB/s]"
          ]
        },
        {
          "name": "stdout",
          "output_type": "stream",
          "text": [
            "Extracting files...\n"
          ]
        },
        {
          "name": "stderr",
          "output_type": "stream",
          "text": [
            "\n"
          ]
        }
      ],
      "source": [
        "dataset_path = kagglehub.dataset_download(\"awsaf49/cbis-ddsm-breast-cancer-image-dataset\")\n",
        "image_dir = os.path.join(dataset_path, \"images\")"
      ]
    },
    {
      "cell_type": "code",
      "execution_count": null,
      "metadata": {
        "id": "cGXhFYD3PlSW"
      },
      "outputs": [],
      "source": [
        "def load_images(image_dir, img_size=(224, 224)):\n",
        "    images = []\n",
        "    labels = []\n",
        "    for label in os.listdir(image_dir):\n",
        "        class_path = os.path.join(image_dir, label)\n",
        "        for img_file in os.listdir(class_path):\n",
        "            img_path = os.path.join(class_path, img_file)\n",
        "            img = cv2.imread(img_path, cv2.IMREAD_GRAYSCALE)\n",
        "            img = cv2.resize(img, img_size)\n",
        "            images.append(img)\n",
        "            labels.append(0 if label == \"benign\" else 1)  # Assuming two classes\n",
        "    return np.array(images), np.array(labels)\n"
      ]
    },
    {
      "cell_type": "code",
      "execution_count": null,
      "metadata": {
        "colab": {
          "base_uri": "https://localhost:8080/"
        },
        "id": "WP9nRbTtQdCD",
        "outputId": "4e7a276d-a3cd-4794-c63b-f7723efecee0"
      },
      "outputs": [
        {
          "name": "stdout",
          "output_type": "stream",
          "text": [
            "Dataset downloaded to: /root/.cache/kagglehub/datasets/awsaf49/cbis-ddsm-breast-cancer-image-dataset/versions/1\n",
            "Contents: ['csv', 'jpeg']\n"
          ]
        }
      ],
      "source": [
        "print(\"Dataset downloaded to:\", dataset_path)\n",
        "print(\"Contents:\", os.listdir(dataset_path))  # Check files & folders\n"
      ]
    },
    {
      "cell_type": "code",
      "execution_count": null,
      "metadata": {
        "id": "u08GMWQ4RPT5"
      },
      "outputs": [],
      "source": [
        "['images', 'metadata.csv', 'README.md']\n",
        "image_dir = os.path.join(dataset_path, \"images\")  # Change based on actual structure"
      ]
    },
    {
      "cell_type": "code",
      "execution_count": null,
      "metadata": {
        "colab": {
          "base_uri": "https://localhost:8080/"
        },
        "id": "_jq5AtloQ1jS",
        "outputId": "dc048e4d-6999-42d8-a20b-1be7b9a7d935"
      },
      "outputs": [
        {
          "name": "stdout",
          "output_type": "stream",
          "text": [
            "Contents of jpeg folder: ['1.3.6.1.4.1.9590.100.1.2.248009716212314654110455505262082490433', '1.3.6.1.4.1.9590.100.1.2.150586274112163348618526888230648261161', '1.3.6.1.4.1.9590.100.1.2.394792236611156603001230316853617554862', '1.3.6.1.4.1.9590.100.1.2.204173776013736332214262798293950507299', '1.3.6.1.4.1.9590.100.1.2.47759147212856924416963526780900223664', '1.3.6.1.4.1.9590.100.1.2.132656983910181108503657484122092972733', '1.3.6.1.4.1.9590.100.1.2.214635822911235330416503361502619110769', '1.3.6.1.4.1.9590.100.1.2.428868892311612991922842180140211445323', '1.3.6.1.4.1.9590.100.1.2.279009357312590326405692300091346688718', '1.3.6.1.4.1.9590.100.1.2.284402166210743654813583379650458642794']\n"
          ]
        }
      ],
      "source": [
        "image_dir = os.path.join(dataset_path, \"jpeg\")\n",
        "jpeg_path = os.path.join(dataset_path, \"jpeg\")\n",
        "print(\"Contents of jpeg folder:\", os.listdir(jpeg_path)[:10])  # Print first 10 files\n"
      ]
    },
    {
      "cell_type": "code",
      "execution_count": null,
      "metadata": {
        "colab": {
          "base_uri": "https://localhost:8080/"
        },
        "id": "Gb8_3NfBR8sB",
        "outputId": "fe710b1c-eb5e-4d67-bf93-c342f5b33741"
      },
      "outputs": [
        {
          "name": "stdout",
          "output_type": "stream",
          "text": [
            "Contents of /root/.cache/kagglehub/datasets/awsaf49/cbis-ddsm-breast-cancer-image-dataset/versions/1/jpeg/1.3.6.1.4.1.9590.100.1.2.248009716212314654110455505262082490433: ['2-222.jpg', '1-244.jpg']\n"
          ]
        }
      ],
      "source": [
        "first_subfolder = os.path.join(jpeg_path, os.listdir(jpeg_path)[0])\n",
        "print(f\"Contents of {first_subfolder}:\", os.listdir(first_subfolder))"
      ]
    },
    {
      "cell_type": "code",
      "execution_count": null,
      "metadata": {
        "colab": {
          "base_uri": "https://localhost:8080/"
        },
        "id": "Q8j2011sPr2i",
        "outputId": "7d1d2ed5-d4b8-41be-ccab-6d54ef77bf82"
      },
      "outputs": [
        {
          "name": "stdout",
          "output_type": "stream",
          "text": [
            "CSV Files: ['dicom_info.csv', 'calc_case_description_test_set.csv', 'calc_case_description_train_set.csv', 'mass_case_description_test_set.csv', 'meta.csv', 'mass_case_description_train_set.csv']\n",
            "                                           file_path  \\\n",
            "0  CBIS-DDSM/dicom/1.3.6.1.4.1.9590.100.1.2.12930...   \n",
            "1  CBIS-DDSM/dicom/1.3.6.1.4.1.9590.100.1.2.24838...   \n",
            "2  CBIS-DDSM/dicom/1.3.6.1.4.1.9590.100.1.2.26721...   \n",
            "3  CBIS-DDSM/dicom/1.3.6.1.4.1.9590.100.1.2.38118...   \n",
            "4  CBIS-DDSM/dicom/1.3.6.1.4.1.9590.100.1.2.38118...   \n",
            "\n",
            "                                          image_path  AccessionNumber  \\\n",
            "0  CBIS-DDSM/jpeg/1.3.6.1.4.1.9590.100.1.2.129308...              NaN   \n",
            "1  CBIS-DDSM/jpeg/1.3.6.1.4.1.9590.100.1.2.248386...              NaN   \n",
            "2  CBIS-DDSM/jpeg/1.3.6.1.4.1.9590.100.1.2.267213...              NaN   \n",
            "3  CBIS-DDSM/jpeg/1.3.6.1.4.1.9590.100.1.2.381187...              NaN   \n",
            "4  CBIS-DDSM/jpeg/1.3.6.1.4.1.9590.100.1.2.381187...              NaN   \n",
            "\n",
            "   BitsAllocated  BitsStored BodyPartExamined  Columns  ContentDate  \\\n",
            "0             16          16           BREAST      351     20160426   \n",
            "1             16          16           BREAST     3526     20160426   \n",
            "2             16          16           BREAST     1546     20160503   \n",
            "3             16          16           BREAST       97     20160503   \n",
            "4              8           8      Left Breast     3104     20160503   \n",
            "\n",
            "   ContentTime ConversionType  ...  \\\n",
            "0   131732.685            WSD  ...   \n",
            "1   143829.101            WSD  ...   \n",
            "2   111956.298            WSD  ...   \n",
            "3   115347.770            WSD  ...   \n",
            "4   115347.770            WSD  ...   \n",
            "\n",
            "   SecondaryCaptureDeviceManufacturerModelName      SeriesDescription  \\\n",
            "0                                       MATLAB         cropped images   \n",
            "1                                       MATLAB  full mammogram images   \n",
            "2                                       MATLAB  full mammogram images   \n",
            "3                                       MATLAB         cropped images   \n",
            "4                                       MATLAB                    NaN   \n",
            "\n",
            "                                   SeriesInstanceUID SeriesNumber  \\\n",
            "0  1.3.6.1.4.1.9590.100.1.2.129308726812851964007...            1   \n",
            "1  1.3.6.1.4.1.9590.100.1.2.248386742010678582309...            1   \n",
            "2  1.3.6.1.4.1.9590.100.1.2.267213171011171858918...            1   \n",
            "3  1.3.6.1.4.1.9590.100.1.2.381187369611524586537...            1   \n",
            "4  1.3.6.1.4.1.9590.100.1.2.381187369611524586537...            1   \n",
            "\n",
            "  SmallestImagePixelValue  SpecificCharacterSet   StudyDate StudyID  \\\n",
            "0                   23078            ISO_IR 100  20160720.0    DDSM   \n",
            "1                       0            ISO_IR 100  20160720.0    DDSM   \n",
            "2                       0            ISO_IR 100  20160807.0    DDSM   \n",
            "3                   32298            ISO_IR 100  20170829.0    DDSM   \n",
            "4                       0            ISO_IR 100         NaN    DDSM   \n",
            "\n",
            "                                    StudyInstanceUID  StudyTime  \n",
            "0  1.3.6.1.4.1.9590.100.1.2.271867287611061855725...   214951.0  \n",
            "1  1.3.6.1.4.1.9590.100.1.2.161516517311681906612...   193426.0  \n",
            "2  1.3.6.1.4.1.9590.100.1.2.291043622711253836701...   161814.0  \n",
            "3  1.3.6.1.4.1.9590.100.1.2.335006093711888937440...   180109.0  \n",
            "4  1.3.6.1.4.1.9590.100.1.2.335006093711888937440...        NaN  \n",
            "\n",
            "[5 rows x 38 columns]\n"
          ]
        }
      ],
      "source": [
        "import pandas as pd\n",
        "\n",
        "csv_path = os.path.join(dataset_path, \"csv\")\n",
        "csv_files = os.listdir(csv_path)\n",
        "print(\"CSV Files:\", csv_files)  # Check available CSVs\n",
        "df = pd.read_csv(os.path.join(csv_path, csv_files[0]))\n",
        "print(df.head())\n"
      ]
    },
    {
      "cell_type": "code",
      "execution_count": null,
      "metadata": {
        "id": "jezMj8IcP3uB"
      },
      "outputs": [],
      "source": [
        "import cv2\n",
        "import numpy as np\n",
        "import pandas as pd\n",
        "import matplotlib.pyplot as plt\n",
        "\n",
        "# Define dataset paths\n",
        "dataset_path = \"/root/.cache/kagglehub/datasets/awsaf49/cbis-ddsm-breast-cancer-image-dataset/versions/1\"\n",
        "csv_path = os.path.join(dataset_path, \"csv\", \"mass_case_description_train_set.csv\")\n",
        "jpeg_path = os.path.join(dataset_path, \"jpeg\")\n"
      ]
    },
    {
      "cell_type": "code",
      "execution_count": null,
      "metadata": {
        "id": "DOXETFh7P6e5"
      },
      "outputs": [],
      "source": [
        "df = pd.read_csv(csv_path)"
      ]
    },
    {
      "cell_type": "code",
      "execution_count": null,
      "metadata": {
        "id": "5FQbNXvXQOll"
      },
      "outputs": [],
      "source": [
        "df = df[['image file path', 'pathology']]\n",
        "df['pathology'] = df['pathology'].map({'BENIGN': 0, 'MALIGNANT': 1})"
      ]
    },
    {
      "cell_type": "code",
      "execution_count": null,
      "metadata": {
        "id": "KbZIbHdCTuVk"
      },
      "outputs": [],
      "source": [
        "df['image file path'] = df['image file path'].apply(lambda x: os.path.join(jpeg_path, x.split(\"/\")[-1]))"
      ]
    },
    {
      "cell_type": "code",
      "execution_count": null,
      "metadata": {
        "id": "M5_CEOxET37S"
      },
      "outputs": [],
      "source": [
        "def load_images(image_paths, labels, img_size=(224, 224)):\n",
        "    images = []\n",
        "    valid_labels = []\n",
        "\n",
        "    for img_path, label in zip(image_paths, labels):\n",
        "        if os.path.exists(img_path):  # Check if file exists\n",
        "            img = cv2.imread(img_path, cv2.IMREAD_GRAYSCALE)  # Read as grayscale\n",
        "            img = cv2.resize(img, img_size)  # Resize to 224x224\n",
        "            images.append(img)\n",
        "            valid_labels.append(label)\n",
        "\n",
        "    return np.array(images), np.array(valid_labels)"
      ]
    },
    {
      "cell_type": "code",
      "execution_count": null,
      "metadata": {
        "colab": {
          "base_uri": "https://localhost:8080/"
        },
        "id": "S_6NJucTUOjd",
        "outputId": "5b80b2db-bb27-4ed6-88f5-a47c7ad441fb"
      },
      "outputs": [
        {
          "name": "stdout",
          "output_type": "stream",
          "text": [
            "Collecting pydicom\n",
            "  Downloading pydicom-3.0.1-py3-none-any.whl.metadata (9.4 kB)\n",
            "Requirement already satisfied: pillow in /usr/local/lib/python3.11/dist-packages (11.1.0)\n",
            "Downloading pydicom-3.0.1-py3-none-any.whl (2.4 MB)\n",
            "\u001b[2K   \u001b[90m━━━━━━━━━━━━━━━━━━━━━━━━━━━━━━━━━━━━━━━━\u001b[0m \u001b[32m2.4/2.4 MB\u001b[0m \u001b[31m19.9 MB/s\u001b[0m eta \u001b[36m0:00:00\u001b[0m\n",
            "\u001b[?25hInstalling collected packages: pydicom\n",
            "Successfully installed pydicom-3.0.1\n"
          ]
        }
      ],
      "source": [
        "pip install pydicom pillow\n"
      ]
    },
    {
      "cell_type": "code",
      "execution_count": null,
      "metadata": {
        "colab": {
          "base_uri": "https://localhost:8080/"
        },
        "id": "oGd0E0YNUgD0",
        "outputId": "419dfab4-a733-4d96-9f35-8b87bb2b8d38"
      },
      "outputs": [
        {
          "name": "stdout",
          "output_type": "stream",
          "text": [
            "Missing DICOM file: /root/.cache/kagglehub/datasets/awsaf49/cbis-ddsm-breast-cancer-image-dataset/versions/1//root/.cache/kagglehub/datasets/awsaf49/cbis-ddsm-breast-cancer-image-dataset/versions/1/jpeg/000000.dcm\n",
            "Missing DICOM file: /root/.cache/kagglehub/datasets/awsaf49/cbis-ddsm-breast-cancer-image-dataset/versions/1//root/.cache/kagglehub/datasets/awsaf49/cbis-ddsm-breast-cancer-image-dataset/versions/1/jpeg/000000.dcm\n",
            "Missing DICOM file: /root/.cache/kagglehub/datasets/awsaf49/cbis-ddsm-breast-cancer-image-dataset/versions/1//root/.cache/kagglehub/datasets/awsaf49/cbis-ddsm-breast-cancer-image-dataset/versions/1/jpeg/000000.dcm\n",
            "Missing DICOM file: /root/.cache/kagglehub/datasets/awsaf49/cbis-ddsm-breast-cancer-image-dataset/versions/1//root/.cache/kagglehub/datasets/awsaf49/cbis-ddsm-breast-cancer-image-dataset/versions/1/jpeg/000000.dcm\n",
            "Missing DICOM file: /root/.cache/kagglehub/datasets/awsaf49/cbis-ddsm-breast-cancer-image-dataset/versions/1//root/.cache/kagglehub/datasets/awsaf49/cbis-ddsm-breast-cancer-image-dataset/versions/1/jpeg/000000.dcm\n"
          ]
        }
      ],
      "source": [
        "import pydicom\n",
        "from PIL import Image\n",
        "import numpy as np\n",
        "import os\n",
        "\n",
        "def dicom_to_jpeg(dicom_path, output_path):\n",
        "    # Load DICOM file\n",
        "    dicom_data = pydicom.dcmread(dicom_path)\n",
        "\n",
        "    # Convert the DICOM pixel data to a PIL image\n",
        "    img = Image.fromarray(dicom_data.pixel_array)\n",
        "\n",
        "    # Save the image as JPEG\n",
        "    img.save(output_path)\n",
        "\n",
        "# Example conversion for the first few files\n",
        "output_dir = \"/root/.cache/kagglehub/datasets/awsaf49/cbis-ddsm-breast-cancer-image-dataset/versions/1/jpeg/\"\n",
        "os.makedirs(output_dir, exist_ok=True)\n",
        "\n",
        "# Convert first few DICOM files in the dataset to JPEG (example)\n",
        "for img_path in df['image file path'].head():\n",
        "    dicom_path = '/root/.cache/kagglehub/datasets/awsaf49/cbis-ddsm-breast-cancer-image-dataset/versions/1/' + img_path\n",
        "    output_path = dicom_path.replace('.dcm', '.jpg').replace('dicom', 'jpeg')\n",
        "\n",
        "    if os.path.exists(dicom_path):\n",
        "        dicom_to_jpeg(dicom_path, output_path)\n",
        "        print(f\"Converted: {dicom_path} -> {output_path}\")\n",
        "    else:\n",
        "        print(f\"Missing DICOM file: {dicom_path}\")\n"
      ]
    },
    {
      "cell_type": "code",
      "execution_count": null,
      "metadata": {
        "colab": {
          "base_uri": "https://localhost:8080/"
        },
        "id": "sMnLK9jbU70q",
        "outputId": "afdbac7e-df35-4858-9bd0-870ec3adb87b"
      },
      "outputs": [
        {
          "name": "stdout",
          "output_type": "stream",
          "text": [
            "[]\n"
          ]
        }
      ],
      "source": [
        "import os\n",
        "\n",
        "def find_dicom_files(base_dir):\n",
        "    dicom_files = []\n",
        "    for root, dirs, files in os.walk(base_dir):\n",
        "        for file in files:\n",
        "            if file.endswith('.dcm'):\n",
        "                dicom_files.append(os.path.join(root, file))\n",
        "    return dicom_files\n",
        "\n",
        "# Path to the root directory of the dataset\n",
        "dataset_dir = \"/root/.cache/kagglehub/datasets/awsaf49/cbis-ddsm-breast-cancer-image-dataset/versions/1/\"\n",
        "\n",
        "# Search for DICOM files recursively in the dataset directory\n",
        "dicom_files = find_dicom_files(dataset_dir)\n",
        "\n",
        "# Print the first few found DICOM files\n",
        "print(dicom_files[:10])  # Adjust to view more or less\n"
      ]
    },
    {
      "cell_type": "code",
      "execution_count": null,
      "metadata": {
        "colab": {
          "base_uri": "https://localhost:8080/"
        },
        "id": "wRvAD8JCVTEH",
        "outputId": "25b9abba-b6f8-4425-b3f0-72257396c62c"
      },
      "outputs": [
        {
          "name": "stdout",
          "output_type": "stream",
          "text": [
            "['/root/.cache/kagglehub/datasets/awsaf49/cbis-ddsm-breast-cancer-image-dataset/versions/1/jpeg/1.3.6.1.4.1.9590.100.1.2.248009716212314654110455505262082490433/2-222.jpg', '/root/.cache/kagglehub/datasets/awsaf49/cbis-ddsm-breast-cancer-image-dataset/versions/1/jpeg/1.3.6.1.4.1.9590.100.1.2.248009716212314654110455505262082490433/1-244.jpg', '/root/.cache/kagglehub/datasets/awsaf49/cbis-ddsm-breast-cancer-image-dataset/versions/1/jpeg/1.3.6.1.4.1.9590.100.1.2.150586274112163348618526888230648261161/1-226.jpg', '/root/.cache/kagglehub/datasets/awsaf49/cbis-ddsm-breast-cancer-image-dataset/versions/1/jpeg/1.3.6.1.4.1.9590.100.1.2.394792236611156603001230316853617554862/1-115.jpg', '/root/.cache/kagglehub/datasets/awsaf49/cbis-ddsm-breast-cancer-image-dataset/versions/1/jpeg/1.3.6.1.4.1.9590.100.1.2.204173776013736332214262798293950507299/1-008.jpg', '/root/.cache/kagglehub/datasets/awsaf49/cbis-ddsm-breast-cancer-image-dataset/versions/1/jpeg/1.3.6.1.4.1.9590.100.1.2.47759147212856924416963526780900223664/2-179.jpg', '/root/.cache/kagglehub/datasets/awsaf49/cbis-ddsm-breast-cancer-image-dataset/versions/1/jpeg/1.3.6.1.4.1.9590.100.1.2.47759147212856924416963526780900223664/1-201.jpg', '/root/.cache/kagglehub/datasets/awsaf49/cbis-ddsm-breast-cancer-image-dataset/versions/1/jpeg/1.3.6.1.4.1.9590.100.1.2.132656983910181108503657484122092972733/1-145.jpg', '/root/.cache/kagglehub/datasets/awsaf49/cbis-ddsm-breast-cancer-image-dataset/versions/1/jpeg/1.3.6.1.4.1.9590.100.1.2.214635822911235330416503361502619110769/1-063.jpg', '/root/.cache/kagglehub/datasets/awsaf49/cbis-ddsm-breast-cancer-image-dataset/versions/1/jpeg/1.3.6.1.4.1.9590.100.1.2.428868892311612991922842180140211445323/1-204.jpg']\n"
          ]
        }
      ],
      "source": [
        "def find_jpeg_files(base_dir):\n",
        "    jpeg_files = []\n",
        "    for root, dirs, files in os.walk(base_dir):\n",
        "        for file in files:\n",
        "            if file.endswith('.jpg'):\n",
        "                jpeg_files.append(os.path.join(root, file))\n",
        "    return jpeg_files\n",
        "\n",
        "jpeg_files = find_jpeg_files(dataset_dir)\n",
        "print(jpeg_files[:10])  # Adjust to view more or less\n"
      ]
    },
    {
      "cell_type": "code",
      "execution_count": null,
      "metadata": {
        "colab": {
          "base_uri": "https://localhost:8080/",
          "height": 406
        },
        "id": "rfDUU3elVvbg",
        "outputId": "ae9323af-6a1e-41ae-b1fe-5616649ab92c"
      },
      "outputs": [
        {
          "data": {
            "image/png": "[encoded data removed]",
            "text/plain": [
              "<Figure size 640x480 with 1 Axes>"
            ]
          },
          "metadata": {},
          "output_type": "display_data"
        }
      ],
      "source": [
        "from PIL import Image\n",
        "import matplotlib.pyplot as plt\n",
        "\n",
        "# Example: Load and display the first image\n",
        "image_path = '/root/.cache/kagglehub/datasets/awsaf49/cbis-ddsm-breast-cancer-image-dataset/versions/1/jpeg/1.3.6.1.4.1.9590.100.1.2.232179602411982479121262306963612746541/1-201.jpg'\n",
        "\n",
        "img = Image.open(image_path)\n",
        "plt.imshow(img)\n",
        "plt.axis('off')  # Hide axes for better visualization\n",
        "plt.show()\n"
      ]
    },
    {
      "cell_type": "code",
      "execution_count": null,
      "metadata": {
        "id": "bWemdbr5ZUek"
      },
      "outputs": [],
      "source": [
        "from PIL import Image\n",
        "from torchvision import transforms\n",
        "\n",
        "# Open the image and convert to RGB if it's grayscale\n",
        "img = Image.open(image_path).convert('RGB')  # Convert to RGB\n",
        "\n",
        "# Define the transformations\n",
        "transform = transforms.Compose([\n",
        "    transforms.Resize((224, 224)),  # Resize to 224x224\n",
        "    transforms.ToTensor(),          # Convert to tensor\n",
        "    transforms.Normalize(mean=[0.485, 0.456, 0.406], std=[0.229, 0.224, 0.225]),  # Normalize\n",
        "])\n",
        "\n",
        "# Apply the transformations to the image\n",
        "img_tensor = transform(img)\n"
      ]
    },
    {
      "cell_type": "code",
      "execution_count": null,
      "metadata": {
        "colab": {
          "base_uri": "https://localhost:8080/"
        },
        "id": "gmKJFCaAZfc8",
        "outputId": "2058db2b-53e6-47b2-ebf8-d9c5b926a684"
      },
      "outputs": [
        {
          "name": "stderr",
          "output_type": "stream",
          "text": [
            "/usr/local/lib/python3.11/dist-packages/torchvision/models/_utils.py:208: UserWarning: The parameter 'pretrained' is deprecated since 0.13 and may be removed in the future, please use 'weights' instead.\n",
            "  warnings.warn(\n",
            "/usr/local/lib/python3.11/dist-packages/torchvision/models/_utils.py:223: UserWarning: Arguments other than a weight enum or `None` for 'weights' are deprecated since 0.13 and may be removed in the future. The current behavior is equivalent to passing `weights=ResNet18_Weights.IMAGENET1K_V1`. You can also use `weights=ResNet18_Weights.DEFAULT` to get the most up-to-date weights.\n",
            "  warnings.warn(msg)\n",
            "Downloading: \"https://download.pytorch.org/models/resnet18-f37072fd.pth\" to /root/.cache/torch/hub/checkpoints/resnet18-f37072fd.pth\n",
            "100%|██████████| 44.7M/44.7M [00:00<00:00, 121MB/s]\n"
          ]
        },
        {
          "name": "stdout",
          "output_type": "stream",
          "text": [
            "Predicted class index: 666\n"
          ]
        }
      ],
      "source": [
        "import torch\n",
        "from torchvision import models\n",
        "\n",
        "# Load the pre-trained ResNet model\n",
        "model = models.resnet18(pretrained=True)\n",
        "model.eval()  # Set the model to evaluation mode\n",
        "\n",
        "# Add a batch dimension (as models expect batch input)\n",
        "img_tensor = img_tensor.unsqueeze(0)  # Shape becomes [1, 3, 224, 224]\n",
        "\n",
        "# Move tensor to the appropriate device (CPU or GPU)\n",
        "device = torch.device(\"cuda\" if torch.cuda.is_available() else \"cpu\")\n",
        "img_tensor = img_tensor.to(device)\n",
        "model = model.to(device)\n",
        "\n",
        "# Make a prediction\n",
        "with torch.no_grad():  # No need to track gradients for inference\n",
        "    output = model(img_tensor)\n",
        "\n",
        "# Get the predicted class\n",
        "_, predicted_class = torch.max(output, 1)\n",
        "print(f\"Predicted class index: {predicted_class.item()}\")\n"
      ]
    },
    {
      "cell_type": "code",
      "execution_count": null,
      "metadata": {
        "colab": {
          "base_uri": "https://localhost:8080/",
          "height": 406
        },
        "id": "itgW97OcZ6bX",
        "outputId": "9f3dbc98-50af-4c7e-c314-b08349763f47"
      },
      "outputs": [
        {
          "data": {
            "image/png": "[encoded data removed]",
            "text/plain": [
              "<Figure size 640x480 with 1 Axes>"
            ]
          },
          "metadata": {},
          "output_type": "display_data"
        }
      ],
      "source": [
        "# Remove the batch dimension by accessing the first element (as batch size is 1)\n",
        "img_tensor = img_tensor.squeeze(0)  # Now the shape will be [C, H, W]\n",
        "\n",
        "# Reverse the normalization\n",
        "mean = torch.tensor([0.485, 0.456, 0.406])\n",
        "std = torch.tensor([0.229, 0.224, 0.225])\n",
        "\n",
        "# Denormalize the image tensor\n",
        "img_tensor = img_tensor * std[:, None, None] + mean[:, None, None]\n",
        "\n",
        "# Convert to numpy array and display the image\n",
        "img_np = img_tensor.permute(1, 2, 0).cpu().numpy()  # Convert from [C, H, W] to [H, W, C]\n",
        "plt.imshow(img_np)\n",
        "plt.axis('off')\n",
        "plt.show()\n"
      ]
    },
    {
      "cell_type": "code",
      "execution_count": null,
      "metadata": {
        "colab": {
          "base_uri": "https://localhost:8080/"
        },
        "id": "bmBUdNZVZ_S2",
        "outputId": "a689466e-5eb9-458a-87aa-7be05763c0cc"
      },
      "outputs": [
        {
          "name": "stdout",
          "output_type": "stream",
          "text": [
            "Predicted class: 604\n",
            "Raw model output: 604\n"
          ]
        }
      ],
      "source": [
        "import torch\n",
        "import torchvision.models as models\n",
        "import torch.nn.functional as F\n",
        "\n",
        "# Load the pretrained ResNet model\n",
        "model = models.resnet18(pretrained=True)\n",
        "model.eval()  # Set the model to evaluation mode\n",
        "\n",
        "# Make the prediction\n",
        "with torch.no_grad():\n",
        "    output = model(img_tensor.unsqueeze(0))  # Add batch dimension\n",
        "    prob = F.softmax(output, dim=1)  # Apply softmax to get probabilities\n",
        "    predicted_class = torch.argmax(prob, dim=1)\n",
        "\n",
        "# Print the predicted class\n",
        "print(\"Predicted class:\", predicted_class.item())\n",
        "print(f\"Raw model output: {predicted_class.item()}\")\n"
      ]
    },
    {
      "cell_type": "code",
      "execution_count": null,
      "metadata": {
        "colab": {
          "base_uri": "https://localhost:8080/"
        },
        "id": "quC1aZnpafBu",
        "outputId": "e2019834-16bc-44d5-85f4-99ee29256fc5"
      },
      "outputs": [
        {
          "name": "stdout",
          "output_type": "stream",
          "text": [
            "Predicted class index: 604\n"
          ]
        }
      ],
      "source": [
        "print(f\"Predicted class index: {predicted_class.item()}\")\n",
        "predicted_class = torch.argmax(output, dim=1)"
      ]
    },
    {
      "cell_type": "code",
      "execution_count": null,
      "metadata": {
        "colab": {
          "base_uri": "https://localhost:8080/"
        },
        "id": "zRE4SjgyaqKI",
        "outputId": "5e3e7eab-3318-4f9f-9923-409f469c60b2"
      },
      "outputs": [
        {
          "name": "stdout",
          "output_type": "stream",
          "text": [
            "Model output size: torch.Size([1, 1000])\n"
          ]
        }
      ],
      "source": [
        "# Check output size\n",
        "print(f\"Model output size: {output.size()}\")\n"
      ]
    },
    {
      "cell_type": "code",
      "execution_count": null,
      "metadata": {
        "id": "SRKSAOmeax5A"
      },
      "outputs": [],
      "source": [
        "# Example of a placeholder\n",
        "class_labels = {i: f\"Class_{i}\" for i in range(623)}\n"
      ]
    },
    {
      "cell_type": "code",
      "execution_count": null,
      "metadata": {
        "id": "lrevVaV7a3hu"
      },
      "outputs": [],
      "source": [
        "import torch\n",
        "import torch.nn as nn\n",
        "import torch.optim as optim\n",
        "from torchvision import models, transforms\n",
        "from torch.utils.data import DataLoader, Dataset\n",
        "import matplotlib.pyplot as plt\n",
        "from PIL import Image\n",
        "import numpy as np\n",
        "import os\n",
        "\n",
        "# Define a simple Dataset class (if you're working with a custom dataset)\n",
        "class BreastCancerDataset(Dataset):\n",
        "    def __init__(self, image_paths, labels, transform=None):\n",
        "        self.image_paths = image_paths\n",
        "        self.labels = labels\n",
        "        self.transform = transform\n",
        "\n",
        "    def __len__(self):\n",
        "        return len(self.image_paths)\n",
        "\n",
        "    def __getitem__(self, idx):\n",
        "        image = Image.open(self.image_paths[idx])\n",
        "        label = self.labels[idx]\n",
        "        if self.transform:\n",
        "            image = self.transform(image)\n",
        "        return image, label"
      ]
    },
    {
      "cell_type": "code",
      "execution_count": null,
      "metadata": {
        "colab": {
          "base_uri": "https://localhost:8080/"
        },
        "id": "SWQbuvSPcBGy",
        "outputId": "d956a133-b92f-4616-8d6c-e51ff6d075f4"
      },
      "outputs": [
        {
          "name": "stderr",
          "output_type": "stream",
          "text": [
            "/usr/local/lib/python3.11/dist-packages/torchvision/models/_utils.py:223: UserWarning: Arguments other than a weight enum or `None` for 'weights' are deprecated since 0.13 and may be removed in the future. The current behavior is equivalent to passing `weights=ResNet50_Weights.IMAGENET1K_V1`. You can also use `weights=ResNet50_Weights.DEFAULT` to get the most up-to-date weights.\n",
            "  warnings.warn(msg)\n",
            "Downloading: \"https://download.pytorch.org/models/resnet50-0676ba61.pth\" to /root/.cache/torch/hub/checkpoints/resnet50-0676ba61.pth\n",
            "100%|██████████| 97.8M/97.8M [00:01<00:00, 83.0MB/s]\n"
          ]
        }
      ],
      "source": [
        "# Modify the final layer of ResNet for binary classification\n",
        "model = models.resnet50(pretrained=True)\n",
        "model.fc = nn.Linear(model.fc.in_features, 2)  # 2 classes: Malignant, Benign\n",
        "\n",
        "# Move model to device\n",
        "device = torch.device(\"cuda\" if torch.cuda.is_available() else \"cpu\")\n",
        "model = model.to(device)\n",
        "\n",
        "# Define a loss function and optimizer\n",
        "criterion = nn.CrossEntropyLoss()\n",
        "optimizer = optim.Adam(model.parameters(), lr=0.001)\n",
        "\n",
        "# Define image transformations\n",
        "transform = transforms.Compose([\n",
        "    transforms.Resize((224, 224)),\n",
        "    transforms.ToTensor(),\n",
        "    transforms.Normalize(mean=[0.485, 0.456, 0.406], std=[0.229, 0.224, 0.225]),\n",
        "])\n"
      ]
    },
    {
      "cell_type": "code",
      "execution_count": null,
      "metadata": {
        "id": "c224fWvkgkLT"
      },
      "outputs": [],
      "source": [
        "def load_images(image_dir, img_size=(224, 224)):  # Remove 'labels' from parameters\n",
        "    images = []\n",
        "    labels = []\n",
        "    for label in os.listdir(image_dir):\n",
        "        class_path = os.path.join(image_dir, label)\n",
        "        for img_file in os.listdir(class_path):\n",
        "            img_path = os.path.join(class_path, img_file)\n",
        "            img = cv2.imread(img_path, cv2.IMREAD_GRAYSCALE)\n",
        "            img = cv2.resize(img, img_size)\n",
        "            images.append(img)\n",
        "            labels.append(0 if label == \"benign\" else 1)  # Assuming two classes\n",
        "    return np.array(images), np.array(labels)\n"
      ]
    },
    {
      "cell_type": "code",
      "execution_count": null,
      "metadata": {
        "id": "obGTLV0Fg2EG"
      },
      "outputs": [],
      "source": [
        "images, labels = load_images(image_dir, img_size=(224, 224))\n"
      ]
    },
    {
      "cell_type": "code",
      "execution_count": null,
      "metadata": {
        "id": "lSNH6-25mIha"
      },
      "outputs": [],
      "source": [
        "X_train, X_test, y_train, y_test = train_test_split(images, labels, test_size=0.2, random_state=42)"
      ]
    },
    {
      "cell_type": "code",
      "execution_count": null,
      "metadata": {
        "colab": {
          "base_uri": "https://localhost:8080/"
        },
        "id": "8HeGJ7Vhur1P",
        "outputId": "707a7353-0fec-44c2-d18c-326186929e5f"
      },
      "outputs": [
        {
          "name": "stderr",
          "output_type": "stream",
          "text": [
            "/usr/local/lib/python3.11/dist-packages/keras/src/layers/convolutional/base_conv.py:107: UserWarning: Do not pass an `input_shape`/`input_dim` argument to a layer. When using Sequential models, prefer using an `Input(shape)` object as the first layer in the model instead.\n",
            "  super().__init__(activity_regularizer=activity_regularizer, **kwargs)\n"
          ]
        }
      ],
      "source": [
        "model = keras.Sequential([\n",
        "    layers.Conv2D(32, (3, 3), activation='relu', input_shape=(224, 224, 1)),\n",
        "    layers.MaxPooling2D((2, 2)),\n",
        "    layers.Conv2D(64, (3, 3), activation='relu'),\n",
        "    layers.MaxPooling2D((2, 2)),\n",
        "    layers.Conv2D(128, (3, 3), activation='relu'),\n",
        "    layers.MaxPooling2D((2, 2)),\n",
        "    layers.Flatten(),\n",
        "    layers.Dense(128, activation='relu'),\n",
        "    layers.Dense(1, activation='sigmoid')  # Binary classification\n",
        "])"
      ]
    },
    {
      "cell_type": "code",
      "execution_count": null,
      "metadata": {
        "id": "lAmEHEhRdZZb"
      },
      "outputs": [],
      "source": [
        "model.compile(optimizer='adam', loss='binary_crossentropy', metrics=['accuracy'])"
      ]
    },
    {
      "cell_type": "code",
      "execution_count": null,
      "metadata": {
        "colab": {
          "background_save": true,
          "base_uri": "https://localhost:8080/"
        },
        "id": "ZAUL7hSrK8SF",
        "outputId": "3bd09dbb-8d93-430e-8e3a-6929c16137f0"
      },
      "outputs": [
        {
          "name": "stdout",
          "output_type": "stream",
          "text": [
            "Epoch 1/5\n",
            "\u001b[1m256/256\u001b[0m \u001b[32m━━━━━━━━━━━━━━━━━━━━\u001b[0m\u001b[37m\u001b[0m \u001b[1m925s\u001b[0m 4s/step - accuracy: 0.9993 - loss: 0.0033 - val_accuracy: 1.0000 - val_loss: 0.0000e+00\n",
            "Epoch 2/5\n",
            "\u001b[1m256/256\u001b[0m \u001b[32m━━━━━━━━━━━━━━━━━━━━\u001b[0m\u001b[37m\u001b[0m \u001b[1m953s\u001b[0m 3s/step - accuracy: 1.0000 - loss: 1.5782e-24 - val_accuracy: 1.0000 - val_loss: 0.0000e+00\n",
            "Epoch 3/5\n",
            "\u001b[1m256/256\u001b[0m \u001b[32m━━━━━━━━━━━━━━━━━━━━\u001b[0m\u001b[37m\u001b[0m \u001b[1m935s\u001b[0m 4s/step - accuracy: 1.0000 - loss: 4.2729e-26 - val_accuracy: 1.0000 - val_loss: 0.0000e+00\n",
            "Epoch 4/5\n",
            "\u001b[1m256/256\u001b[0m \u001b[32m━━━━━━━━━━━━━━━━━━━━\u001b[0m\u001b[37m\u001b[0m \u001b[1m905s\u001b[0m 3s/step - accuracy: 1.0000 - loss: 1.3143e-24 - val_accuracy: 1.0000 - val_loss: 0.0000e+00\n",
            "Epoch 5/5\n",
            "\u001b[1m256/256\u001b[0m \u001b[32m━━━━━━━━━━━━━━━━━━━━\u001b[0m\u001b[37m\u001b[0m \u001b[1m918s\u001b[0m 3s/step - accuracy: 1.0000 - loss: 3.0012e-25 - val_accuracy: 1.0000 - val_loss: 0.0000e+00\n"
          ]
        }
      ],
      "source": [
        "history = model.fit(X_train, y_train, epochs=5, batch_size=32, validation_data=(X_test, y_test))\n"
      ]
    },
    {
      "cell_type": "code",
      "execution_count": null,
      "metadata": {
        "colab": {
          "background_save": true
        },
        "id": "Ghz2awNZK_N5",
        "outputId": "a4770882-5f1e-4aca-cd7b-aac97bc9f238"
      },
      "outputs": [
        {
          "name": "stdout",
          "output_type": "stream",
          "text": [
            "\u001b[1m64/64\u001b[0m \u001b[32m━━━━━━━━━━━━━━━━━━━━\u001b[0m\u001b[37m\u001b[0m \u001b[1m58s\u001b[0m 902ms/step - accuracy: 1.0000 - loss: 0.0000e+00\n",
            "Test Accuracy: 100.00%\n"
          ]
        }
      ],
      "source": [
        "test_loss, test_acc = model.evaluate(X_test, y_test)\n",
        "print(f\"Test Accuracy: {test_acc * 100:.2f}%\")"
      ]
    },
    {
      "cell_type": "code",
      "execution_count": null,
      "metadata": {
        "colab": {
          "background_save": true
        },
        "id": "EIcyk_9FLuao"
      },
      "outputs": [],
      "source": []
    }
  ],
  "metadata": {
    "colab": {
      "provenance": []
    },
    "kernelspec": {
      "display_name": "Python 3",
      "name": "python3"
    },
    "language_info": {
      "name": "python"
    }
  },
  "nbformat": 4,
  "nbformat_minor": 0
}